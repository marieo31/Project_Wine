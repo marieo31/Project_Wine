{
 "cells": [
  {
   "cell_type": "code",
   "execution_count": null,
   "metadata": {},
   "outputs": [],
   "source": [
    "import pandas as pd\n",
    "import re\n",
    "import os\n",
    "import numpy as np"
   ]
  },
  {
   "cell_type": "code",
   "execution_count": null,
   "metadata": {},
   "outputs": [],
   "source": [
    "file= \"LIGHT_winemag-data-130k-v2.csv\"\n",
    "output_data_file = \"WineList_year.csv\"\n",
    "file_pd= pd.read_csv(file)\n",
    "file_pd[\"Wine Year\"]= \"\"\n",
    "file_pd.head()"
   ]
  },
  {
   "cell_type": "code",
   "execution_count": null,
   "metadata": {},
   "outputs": [],
   "source": [
    "file_pds= file_pd.dropna()"
   ]
  },
  {
   "cell_type": "code",
   "execution_count": null,
   "metadata": {},
   "outputs": [],
   "source": [
    "file_pds.describe()"
   ]
  },
  {
   "cell_type": "code",
   "execution_count": null,
   "metadata": {},
   "outputs": [],
   "source": [
    "for index, row in file_pds.iterrows():\n",
    "    wine= row['title']\n",
    "    try:\n",
    "        wine_year= re.findall(r'\\b\\d+\\b', wine)\n",
    "        if 1000 < int(wine_year[0]) < 2020:\n",
    "                file_pds.loc[index, \"Wine Year\"] = wine_year[0]\n",
    "        elif 1000 < int(wine_year[1]) < 2020:\n",
    "            file_pds.loc[index, \"Wine Year\"] = wine_year[1]\n",
    "        else:\n",
    "            file_pds.loc[index, \"Wine Year\"]= \"\"      \n",
    "    except (KeyError, IndexError):\n",
    "        print(\"Year not found. Skipping...\")"
   ]
  },
  {
   "cell_type": "code",
   "execution_count": null,
   "metadata": {},
   "outputs": [],
   "source": [
    "csv_pd= file_pds.replace('', np.nan, inplace=True)\n",
    "csv_pd= file_pds.dropna()"
   ]
  },
  {
   "cell_type": "code",
   "execution_count": null,
   "metadata": {},
   "outputs": [],
   "source": [
    "csv_pd.to_csv(output_data_file)"
   ]
  },
  {
   "cell_type": "code",
   "execution_count": null,
   "metadata": {},
   "outputs": [],
   "source": []
  }
 ],
 "metadata": {
  "kernelspec": {
   "display_name": "Python 3",
   "language": "python",
   "name": "python3"
  },
  "language_info": {
   "codemirror_mode": {
    "name": "ipython",
    "version": 3
   },
   "file_extension": ".py",
   "mimetype": "text/x-python",
   "name": "python",
   "nbconvert_exporter": "python",
   "pygments_lexer": "ipython3",
   "version": "3.6.5"
  }
 },
 "nbformat": 4,
 "nbformat_minor": 2
}
